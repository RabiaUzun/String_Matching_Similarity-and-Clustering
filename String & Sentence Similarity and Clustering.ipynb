{
 "cells": [
  {
   "cell_type": "markdown",
   "metadata": {},
   "source": [
    "# Compare multiple string columns to return similarity scores and longest partial string matches"
   ]
  },
  {
   "cell_type": "code",
   "execution_count": null,
   "metadata": {},
   "outputs": [],
   "source": [
    "import numpy as np\n",
    "import pandas as pd\n",
    "from difflib import SequenceMatcher"
   ]
  },
  {
   "cell_type": "code",
   "execution_count": null,
   "metadata": {},
   "outputs": [],
   "source": [
    "file = 'data1.csv'\n",
    "data1 = pd.read_csv(file)"
   ]
  },
  {
   "cell_type": "code",
   "execution_count": null,
   "metadata": {},
   "outputs": [],
   "source": [
    "file = 'data2.csv'\n",
    "data2 = pd.read_csv(file)"
   ]
  },
  {
   "cell_type": "code",
   "execution_count": null,
   "metadata": {},
   "outputs": [],
   "source": [
    "frames = [data1, data2]\n",
    " \n",
    "res_dt = pd.concat(frames).reset_index()\n",
    "del res_dt['index']"
   ]
  },
  {
   "cell_type": "code",
   "execution_count": null,
   "metadata": {},
   "outputs": [],
   "source": [
    "data = res_dt.replace(np.nan, '', regex=True)"
   ]
  },
  {
   "cell_type": "code",
   "execution_count": null,
   "metadata": {},
   "outputs": [],
   "source": [
    "data.drop_duplicates(subset='name', keep='first', inplace=True)"
   ]
  },
  {
   "cell_type": "markdown",
   "metadata": {},
   "source": [
    "Use SequenceMatcher and find string similarity between string columns, score is out of 100, round up (2 digits)"
   ]
  },
  {
   "cell_type": "code",
   "execution_count": null,
   "metadata": {},
   "outputs": [],
   "source": [
    "from difflib import SequenceMatcher\n",
    "\n",
    "def sim_score(df, col1, col2):\n",
    "    return round((SequenceMatcher(None, df[col1], df[col2]).ratio()*100),2)"
   ]
  },
  {
   "cell_type": "markdown",
   "metadata": {},
   "source": [
    "Compute similarity score for multiple string columns, compare and return maximum similarity score"
   ]
  },
  {
   "cell_type": "code",
   "execution_count": null,
   "metadata": {},
   "outputs": [],
   "source": [
    "data['score'] = data.apply(sim_score,\n",
    "                          args=('col1', 'col2'), axis=1)\n",
    "data['score2'] = data.apply(sim_score,\n",
    "                          args=('col1', 'col3'), axis=1)\n",
    "\n",
    "data['max_score'] = data[['score1', 'score2']].max(axis=1)\n",
    "data"
   ]
  },
  {
   "cell_type": "code",
   "execution_count": null,
   "metadata": {},
   "outputs": [],
   "source": [
    "data.to_csv(\"match_score.csv\")"
   ]
  },
  {
   "cell_type": "markdown",
   "metadata": {},
   "source": [
    "Compute similarity score for multiple string columns, and find matched longest keyword (string)"
   ]
  },
  {
   "cell_type": "code",
   "execution_count": null,
   "metadata": {},
   "outputs": [],
   "source": [
    "from difflib import SequenceMatcher\n",
    "\n",
    "def sim_keyword(df, col1, col2):\n",
    "    seqMatch=SequenceMatcher(None, df[col1], df[col2])\n",
    "    match=seqMatch.find_longest_match(0, len(df[col1]), 0, len(df[col2])) \n",
    "    if (match.size!=0): \n",
    "          return (df[col1][match.a: match.a + match.size])  \n",
    "    else: \n",
    "          return ''"
   ]
  },
  {
   "cell_type": "code",
   "execution_count": null,
   "metadata": {},
   "outputs": [],
   "source": [
    "data['matched_keyword'] = data.apply(sim_keyword,\n",
    "                          args=('col1', 'col2'), axis=1)\n",
    "data['matched_keyword2'] = data.apply(sim_keyword,\n",
    "                          args=('col1', 'col3'), axis=1)\n",
    "\n",
    "data"
   ]
  },
  {
   "cell_type": "code",
   "execution_count": null,
   "metadata": {},
   "outputs": [],
   "source": [
    "#remove '-' , numeric matches, and single character letter\n",
    "\n",
    "data2=data[~data['matched_keyword'].str.contains('0|1|2|3|4|5|6|7|8|9')]\n",
    "data2['matched_keyword'] = data2['matched_keyword'].str.replace(r'\\b\\w\\b', '').str.replace(r'\\s+', ' ').str.replace('-', '')\n",
    "data2"
   ]
  },
  {
   "cell_type": "code",
   "execution_count": null,
   "metadata": {},
   "outputs": [],
   "source": [
    "data2.to_csv(\"match keyword.csv\")"
   ]
  },
  {
   "cell_type": "markdown",
   "metadata": {},
   "source": [
    "This is modification version of Text Clustering and Text Similarity approaches available from the following post: http://www.lumenai.fr/blog/quick-review-on-text-clustering-and-text-similarity-approaches\n",
    "\n",
    "Great example of k-means clustering using tf-idf vectors with the scikit-learn implementation"
   ]
  },
  {
   "cell_type": "code",
   "execution_count": null,
   "metadata": {},
   "outputs": [],
   "source": [
    "import collections\n",
    "from nltk import word_tokenize\n",
    "from nltk.corpus import stopwords\n",
    "from nltk.stem import PorterStemmer\n",
    "from sklearn.cluster import KMeans\n",
    "from sklearn.feature_extraction.text import TfidfVectorizer\n",
    "from pprint import pprint\n",
    "\n",
    "\n",
    "def word_tokenizer(text):\n",
    "            #tokenizes and stems the text\n",
    "            tokens = word_tokenize(text)\n",
    "            stemmer = PorterStemmer()\n",
    "            tokens = [stemmer.stem(t) for t in tokens if t not in stopwords.words('english')]\n",
    "            return tokens\n",
    "\n",
    "\n",
    "def cluster_sentences(sentences, nb_of_clusters):\n",
    "            tfidf_vectorizer = TfidfVectorizer(tokenizer=word_tokenizer,\n",
    "                                            stop_words=stopwords.words('english'),\n",
    "                                            max_df=0.9,\n",
    "                                            min_df=0.1,\n",
    "                                            lowercase=True)\n",
    "            #builds a tf-idf matrix for the sentences\n",
    "            tfidf_matrix = tfidf_vectorizer.fit_transform(sentences)\n",
    "            kmeans = KMeans(n_clusters=nb_of_clusters)\n",
    "            kmeans.fit(tfidf_matrix)\n",
    "            clusters = collections.defaultdict(list)\n",
    "            for i, label in enumerate(kmeans.labels_):\n",
    "                    clusters[label].append(i)\n",
    "            return dict(clusters)"
   ]
  },
  {
   "cell_type": "markdown",
   "metadata": {},
   "source": [
    "Return in format of dataframe, with based on name/sentence similarity in the column, cluster them into groups of name/sentence, and returning cluster group number for each corresponding name/sentence. This can be implement to check sentence similarity, and clustering"
   ]
  },
  {
   "cell_type": "code",
   "execution_count": null,
   "metadata": {},
   "outputs": [],
   "source": [
    "if __name__ == \"__main__\":\n",
    "            sentences = data['name']\n",
    "            nclusters= 10\n",
    "            clusters = cluster_sentences(sentences, nclusters)\n",
    "            cols = ['cluster group','name']\n",
    "            dat = pd.DataFrame(columns = cols)\n",
    "            for cluster in range(nclusters):\n",
    "                    for i,sentence in enumerate(clusters[cluster]):\n",
    "                        dat = dat.append({'cluster group': cluster, 'name':sentences[sentence]}, ignore_index=True)\n",
    "dat"
   ]
  },
  {
   "cell_type": "markdown",
   "metadata": {},
   "source": [
    "## Elbow method to select number of clusters\n",
    "\n",
    "The elbow method is a used to estimate the optimal number of clusters k. Usually, if k increases, the within-cluster SSE (“distortion”) will decrease. This is because the samples will be closer to the centroids they are assigned to. The idea is to identify the value of k where the distortion begins to decrease most rapidly.\n",
    "\n",
    "Read more: https://towardsdatascience.com/k-means-clustering-with-scikit-learn-6b47a369a83c"
   ]
  },
  {
   "cell_type": "code",
   "execution_count": null,
   "metadata": {},
   "outputs": [],
   "source": [
    "from sklearn.cluster import KMeans\n",
    "wcsse = []\n",
    "sentences = data['name']\n",
    "tfidf_vectorizer = TfidfVectorizer(tokenizer=word_tokenizer,\n",
    "                                            stop_words=stopwords.words('english'),\n",
    "                                            max_df=0.9,\n",
    "                                            min_df=0.1,\n",
    "                                            lowercase=True)\n",
    "tfidf_matrix = tfidf_vectorizer.fit_transform(sentences)\n",
    "for i in range(1,11):\n",
    "    kmeans = KMeans(n_clusters=i,init='k-means++',max_iter=300,n_init=10,random_state=0)\n",
    "    kmeans.fit(tfidf_matrix)\n",
    "    wcsse.append(kmeans.inertia_)\n",
    "plt.plot(range(1,11),wcsse)\n",
    "plt.title('The Elbow Method')\n",
    "plt.xlabel('Number of clusters')\n",
    "plt.ylabel('WCSSE')\n",
    "plt.savefig('elbow.png')\n",
    "plt.show()"
   ]
  }
 ],
 "metadata": {
  "kernelspec": {
   "display_name": "Python 3",
   "language": "python",
   "name": "python3"
  },
  "language_info": {
   "codemirror_mode": {
    "name": "ipython",
    "version": 3
   },
   "file_extension": ".py",
   "mimetype": "text/x-python",
   "name": "python",
   "nbconvert_exporter": "python",
   "pygments_lexer": "ipython3",
   "version": "3.6.7"
  }
 },
 "nbformat": 4,
 "nbformat_minor": 2
}
