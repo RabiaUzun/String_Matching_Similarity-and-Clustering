{
 "cells": [
  {
   "cell_type": "markdown",
   "metadata": {},
   "source": [
    "# Compare multiple string columns to return similarity scores and longest partial string matches"
   ]
  },
  {
   "cell_type": "code",
   "execution_count": null,
   "metadata": {},
   "outputs": [],
   "source": [
    "import numpy as np\n",
    "import pandas as pd\n",
    "from difflib import SequenceMatcher"
   ]
  },
  {
   "cell_type": "code",
   "execution_count": null,
   "metadata": {},
   "outputs": [],
   "source": [
    "file = 'data1.csv'\n",
    "data1 = pd.read_csv(file)"
   ]
  },
  {
   "cell_type": "code",
   "execution_count": null,
   "metadata": {},
   "outputs": [],
   "source": [
    "file = 'data2.csv'\n",
    "data2 = pd.read_csv(file)"
   ]
  },
  {
   "cell_type": "code",
   "execution_count": null,
   "metadata": {},
   "outputs": [],
   "source": [
    "frames = [data1, data2]\n",
    " \n",
    "res_dt = pd.concat(frames).reset_index()\n",
    "del res_dt['index']"
   ]
  },
  {
   "cell_type": "code",
   "execution_count": null,
   "metadata": {},
   "outputs": [],
   "source": [
    "data = res_dt.replace(np.nan, '', regex=True)"
   ]
  },
  {
   "cell_type": "code",
   "execution_count": null,
   "metadata": {},
   "outputs": [],
   "source": [
    "data.drop_duplicates(subset='name', keep='first', inplace=True)"
   ]
  },
  {
   "cell_type": "markdown",
   "metadata": {},
   "source": [
    "Use SequenceMatcher and find string similarity between string columns, score is out of 100, round up (2 digits)"
   ]
  },
  {
   "cell_type": "code",
   "execution_count": null,
   "metadata": {},
   "outputs": [],
   "source": [
    "from difflib import SequenceMatcher\n",
    "\n",
    "def sim_score(df, col1, col2):\n",
    "    return round((SequenceMatcher(None, df[col1], df[col2]).ratio()*100),2)"
   ]
  },
  {
   "cell_type": "markdown",
   "metadata": {},
   "source": [
    "Compute similarity score for multiple string columns, compare and return maximum similarity score"
   ]
  },
  {
   "cell_type": "code",
   "execution_count": null,
   "metadata": {},
   "outputs": [],
   "source": [
    "data['score'] = data.apply(sim_score,\n",
    "                          args=('col1', 'col2'), axis=1)\n",
    "data['score2'] = data.apply(sim_score,\n",
    "                          args=('col1', 'col3'), axis=1)\n",
    "\n",
    "data['max_score'] = data[['score1', 'score2']].max(axis=1)\n",
    "data"
   ]
  },
  {
   "cell_type": "code",
   "execution_count": null,
   "metadata": {},
   "outputs": [],
   "source": [
    "data.to_csv(\"match_score.csv\")"
   ]
  },
  {
   "cell_type": "markdown",
   "metadata": {},
   "source": [
    "Compute similarity score for multiple string columns, and find matched longest keyword (string)"
   ]
  },
  {
   "cell_type": "code",
   "execution_count": null,
   "metadata": {},
   "outputs": [],
   "source": [
    "from difflib import SequenceMatcher\n",
    "\n",
    "def sim_keyword(df, col1, col2):\n",
    "    seqMatch=SequenceMatcher(None, df[col1], df[col2])\n",
    "    match=seqMatch.find_longest_match(0, len(df[col1]), 0, len(df[col2])) \n",
    "    if (match.size!=0): \n",
    "          return (df[col1][match.a: match.a + match.size])  \n",
    "    else: \n",
    "          return ''"
   ]
  },
  {
   "cell_type": "code",
   "execution_count": null,
   "metadata": {},
   "outputs": [],
   "source": [
    "data['matched_keyword'] = data.apply(sim_keyword,\n",
    "                          args=('col1', 'col2'), axis=1)\n",
    "data['matched_keyword2'] = data.apply(sim_keyword,\n",
    "                          args=('col1', 'col3'), axis=1)\n",
    "\n",
    "data"
   ]
  },
  {
   "cell_type": "code",
   "execution_count": null,
   "metadata": {},
   "outputs": [],
   "source": [
    "#remove '-' , numeric matches, and single character letter\n",
    "\n",
    "data2=data[~data['matched_keyword'].str.contains('0|1|2|3|4|5|6|7|8|9')]\n",
    "data2['matched_keyword'] = data2['matched_keyword'].str.replace(r'\\b\\w\\b', '').str.replace(r'\\s+', ' ').str.replace('-', '')\n",
    "data2"
   ]
  },
  {
   "cell_type": "code",
   "execution_count": null,
   "metadata": {},
   "outputs": [],
   "source": [
    "data2.to_csv(\"match keyword.csv\")"
   ]
  }
 ],
 "metadata": {
  "kernelspec": {
   "display_name": "Python 3",
   "language": "python",
   "name": "python3"
  },
  "language_info": {
   "codemirror_mode": {
    "name": "ipython",
    "version": 3
   },
   "file_extension": ".py",
   "mimetype": "text/x-python",
   "name": "python",
   "nbconvert_exporter": "python",
   "pygments_lexer": "ipython3",
   "version": "3.6.5"
  }
 },
 "nbformat": 4,
 "nbformat_minor": 2
}
